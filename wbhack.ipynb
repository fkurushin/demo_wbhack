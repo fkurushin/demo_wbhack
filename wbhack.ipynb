{
 "cells": [
  {
   "cell_type": "markdown",
   "metadata": {},
   "source": [
    "# WildHack@поисковые_тэги  \n",
    "**Problem statement**\n",
    "\n",
    "Пользователь видит результат поискового запроса, но не может легко найти нужный товар пролистыванием выдачи:  \n",
    "товаров слишком много, товар слишком разнообразный либо нужного товара просто нет. Нужно предложить набор поисковых подсказок (тегов),   \n",
    "которые максимально сократят путь пользователя к искомому товару.\n",
    "\n",
    "\n",
    "**Requirments**\n",
    "\n",
    "Необходимо разработать алгоритм формирования поисковых тегов (сопутствующих/связанных запросов), которые помогут пользователю уточнить или дополнить поисковую выдачу и продолжить поиск в случае нерелевантной выдачи.\n",
    "\n",
    "**Data**\n",
    "\n",
    "_search_history.csv_\n",
    "\n",
    "История поиска — реальные данные взятые за определенный период (неделя). \n",
    "\n",
    "wbuser_id - обезличенный идентификатор пользователя  \n",
    "UQ - введенный поисковый запрос  \n",
    "cnt - количество товаров в выдаче, не считая дополнительных рекомендаций  \n",
    "locale - локаль сайта, на которой был введен запрос   \n",
    "weekday - день недели запроса  \n",
    "time - время запроса\n",
    "\n",
    "\n",
    "_query_popularity.csv_\n",
    "\n",
    "query - текст запроса  \n",
    "query_popularity - относительная популярность запроса за взятый период. 1 наименее популярный, 10 — наиболее"
   ]
  },
  {
   "cell_type": "code",
   "execution_count": 2,
   "metadata": {},
   "outputs": [],
   "source": [
    "import os\n",
    "import pandas as pd\n",
    "import matplotlib.pyplot as plt\n",
    "os.chdir('C:/Users/Xiaomi/Downloads')"
   ]
  },
  {
   "cell_type": "markdown",
   "metadata": {},
   "source": [
    "## 1. EDA"
   ]
  },
  {
   "cell_type": "code",
   "execution_count": 3,
   "metadata": {},
   "outputs": [],
   "source": [
    "df_qp = pd.read_csv('query_popularity.csv')\n",
    "df_sh = pd.read_csv('search_history.csv', nrows = 5_000_000, date_parser = ['time'])"
   ]
  },
  {
   "cell_type": "code",
   "execution_count": 4,
   "metadata": {},
   "outputs": [
    {
     "data": {
      "text/html": [
       "<div>\n",
       "<style scoped>\n",
       "    .dataframe tbody tr th:only-of-type {\n",
       "        vertical-align: middle;\n",
       "    }\n",
       "\n",
       "    .dataframe tbody tr th {\n",
       "        vertical-align: top;\n",
       "    }\n",
       "\n",
       "    .dataframe thead th {\n",
       "        text-align: right;\n",
       "    }\n",
       "</style>\n",
       "<table border=\"1\" class=\"dataframe\">\n",
       "  <thead>\n",
       "    <tr style=\"text-align: right;\">\n",
       "      <th></th>\n",
       "      <th>wbuser_id</th>\n",
       "      <th>UQ</th>\n",
       "      <th>cnt</th>\n",
       "      <th>locale</th>\n",
       "      <th>weekday</th>\n",
       "      <th>time</th>\n",
       "    </tr>\n",
       "  </thead>\n",
       "  <tbody>\n",
       "    <tr>\n",
       "      <th>0</th>\n",
       "      <td>37bc0ce12ffabce1b1882e66d461ed0e</td>\n",
       "      <td>тапочки женские домашние</td>\n",
       "      <td>1933</td>\n",
       "      <td>Ru</td>\n",
       "      <td>0</td>\n",
       "      <td>10:48:53</td>\n",
       "    </tr>\n",
       "    <tr>\n",
       "      <th>1</th>\n",
       "      <td>4636a6706e6736d818816d8657565aa2</td>\n",
       "      <td>чехол для бейджика</td>\n",
       "      <td>1513</td>\n",
       "      <td>Ru</td>\n",
       "      <td>0</td>\n",
       "      <td>10:48:53</td>\n",
       "    </tr>\n",
       "    <tr>\n",
       "      <th>2</th>\n",
       "      <td>708f4040baf99acfc9496563edff1b1a</td>\n",
       "      <td>GUESS</td>\n",
       "      <td>4</td>\n",
       "      <td>Ru</td>\n",
       "      <td>0</td>\n",
       "      <td>10:48:53</td>\n",
       "    </tr>\n",
       "    <tr>\n",
       "      <th>3</th>\n",
       "      <td>70311ec9008a31f743c164e6f1198c86</td>\n",
       "      <td>штора для ванной</td>\n",
       "      <td>0</td>\n",
       "      <td>Ru</td>\n",
       "      <td>0</td>\n",
       "      <td>10:48:53</td>\n",
       "    </tr>\n",
       "    <tr>\n",
       "      <th>4</th>\n",
       "      <td>70311ec9008a31f743c164e6f1198c86</td>\n",
       "      <td>фототфон</td>\n",
       "      <td>92272</td>\n",
       "      <td>Ru</td>\n",
       "      <td>0</td>\n",
       "      <td>10:48:53</td>\n",
       "    </tr>\n",
       "  </tbody>\n",
       "</table>\n",
       "</div>"
      ],
      "text/plain": [
       "                          wbuser_id                        UQ    cnt locale  \\\n",
       "0  37bc0ce12ffabce1b1882e66d461ed0e  тапочки женские домашние   1933     Ru   \n",
       "1  4636a6706e6736d818816d8657565aa2        чехол для бейджика   1513     Ru   \n",
       "2  708f4040baf99acfc9496563edff1b1a                     GUESS      4     Ru   \n",
       "3  70311ec9008a31f743c164e6f1198c86          штора для ванной      0     Ru   \n",
       "4  70311ec9008a31f743c164e6f1198c86                  фототфон  92272     Ru   \n",
       "\n",
       "   weekday      time  \n",
       "0        0  10:48:53  \n",
       "1        0  10:48:53  \n",
       "2        0  10:48:53  \n",
       "3        0  10:48:53  \n",
       "4        0  10:48:53  "
      ]
     },
     "execution_count": 4,
     "metadata": {},
     "output_type": "execute_result"
    }
   ],
   "source": [
    "df_sh.head()"
   ]
  },
  {
   "cell_type": "code",
   "execution_count": 5,
   "metadata": {},
   "outputs": [
    {
     "data": {
      "text/plain": [
       "<matplotlib.axes._subplots.AxesSubplot at 0x1c7da987588>"
      ]
     },
     "execution_count": 5,
     "metadata": {},
     "output_type": "execute_result"
    },
    {
     "data": {
      "image/png": "[encoded data removed]",
      "text/plain": [
       "<Figure size 432x288 with 1 Axes>"
      ]
     },
     "metadata": {
      "needs_background": "light"
     },
     "output_type": "display_data"
    }
   ],
   "source": [
    "df_sh.cnt.hist(bins = 10) # выбросы - нули в cnt - баги"
   ]
  },
  {
   "cell_type": "code",
   "execution_count": 6,
   "metadata": {},
   "outputs": [
    {
     "data": {
      "text/html": [
       "<div>\n",
       "<style scoped>\n",
       "    .dataframe tbody tr th:only-of-type {\n",
       "        vertical-align: middle;\n",
       "    }\n",
       "\n",
       "    .dataframe tbody tr th {\n",
       "        vertical-align: top;\n",
       "    }\n",
       "\n",
       "    .dataframe thead th {\n",
       "        text-align: right;\n",
       "    }\n",
       "</style>\n",
       "<table border=\"1\" class=\"dataframe\">\n",
       "  <thead>\n",
       "    <tr style=\"text-align: right;\">\n",
       "      <th></th>\n",
       "      <th>query</th>\n",
       "      <th>query_popularity</th>\n",
       "    </tr>\n",
       "  </thead>\n",
       "  <tbody>\n",
       "    <tr>\n",
       "      <th>0</th>\n",
       "      <td>ноутбук</td>\n",
       "      <td>10</td>\n",
       "    </tr>\n",
       "    <tr>\n",
       "      <th>1</th>\n",
       "      <td>куртка женская осенняя</td>\n",
       "      <td>10</td>\n",
       "    </tr>\n",
       "    <tr>\n",
       "      <th>2</th>\n",
       "      <td>ботинки женские</td>\n",
       "      <td>10</td>\n",
       "    </tr>\n",
       "    <tr>\n",
       "      <th>3</th>\n",
       "      <td>видеокарта</td>\n",
       "      <td>10</td>\n",
       "    </tr>\n",
       "    <tr>\n",
       "      <th>4</th>\n",
       "      <td>пальто женское осеннее</td>\n",
       "      <td>10</td>\n",
       "    </tr>\n",
       "  </tbody>\n",
       "</table>\n",
       "</div>"
      ],
      "text/plain": [
       "                    query  query_popularity\n",
       "0                 ноутбук                10\n",
       "1  куртка женская осенняя                10\n",
       "2         ботинки женские                10\n",
       "3              видеокарта                10\n",
       "4  пальто женское осеннее                10"
      ]
     },
     "execution_count": 6,
     "metadata": {},
     "output_type": "execute_result"
    }
   ],
   "source": [
    "df_qp.head()"
   ]
  },
  {
   "cell_type": "code",
   "execution_count": 7,
   "metadata": {},
   "outputs": [
    {
     "data": {
      "text/plain": [
       "<matplotlib.axes._subplots.AxesSubplot at 0x1c7800e8e88>"
      ]
     },
     "execution_count": 7,
     "metadata": {},
     "output_type": "execute_result"
    },
    {
     "data": {
      "image/png": "[encoded data removed]",
      "text/plain": [
       "<Figure size 432x288 with 1 Axes>"
      ]
     },
     "metadata": {
      "needs_background": "light"
     },
     "output_type": "display_data"
    }
   ],
   "source": [
    "df_qp['query_popularity'].hist()"
   ]
  },
  {
   "cell_type": "markdown",
   "metadata": {},
   "source": [
    "## 2. Data preprocessing"
   ]
  },
  {
   "cell_type": "code",
   "execution_count": 8,
   "metadata": {},
   "outputs": [],
   "source": [
    "from sklearn.preprocessing import LabelEncoder"
   ]
  },
  {
   "cell_type": "code",
   "execution_count": 9,
   "metadata": {},
   "outputs": [],
   "source": [
    "# dropping weekday number as it's not giving any info\n",
    "df_sh = df_sh[['wbuser_id', 'UQ', 'locale', 'cnt', 'time']]"
   ]
  },
  {
   "cell_type": "code",
   "execution_count": 10,
   "metadata": {},
   "outputs": [],
   "source": [
    "# dropping duplicates for group id-uq-cnt\n",
    "df_sh = df_sh.drop_duplicates(['wbuser_id', 'UQ', 'cnt'])"
   ]
  },
  {
   "cell_type": "code",
   "execution_count": 11,
   "metadata": {},
   "outputs": [],
   "source": [
    "df_sh['UQ'] = df_sh.UQ.str.replace('ё', 'е')"
   ]
  },
  {
   "cell_type": "code",
   "execution_count": 12,
   "metadata": {},
   "outputs": [],
   "source": [
    "df_sh['UQ'] = df_sh.UQ.str.strip().str.lower()"
   ]
  },
  {
   "cell_type": "code",
   "execution_count": 13,
   "metadata": {},
   "outputs": [],
   "source": [
    "# handling zero values in cnt\n",
    "df_sh['cnt'] = df_sh.groupby('wbuser_id').cnt.transform('max')"
   ]
  },
  {
   "cell_type": "code",
   "execution_count": 14,
   "metadata": {},
   "outputs": [],
   "source": [
    "# dropping duplicates for group id-uq again after handling zero values in cnt\n",
    "df_sh = df_sh.drop_duplicates(['wbuser_id', 'UQ'])"
   ]
  },
  {
   "cell_type": "code",
   "execution_count": 15,
   "metadata": {},
   "outputs": [
    {
     "data": {
      "text/plain": [
       "(2107822, 5)"
      ]
     },
     "execution_count": 15,
     "metadata": {},
     "output_type": "execute_result"
    }
   ],
   "source": [
    "df_sh.shape"
   ]
  },
  {
   "cell_type": "code",
   "execution_count": 16,
   "metadata": {},
   "outputs": [
    {
     "data": {
      "text/html": [
       "<div>\n",
       "<style scoped>\n",
       "    .dataframe tbody tr th:only-of-type {\n",
       "        vertical-align: middle;\n",
       "    }\n",
       "\n",
       "    .dataframe tbody tr th {\n",
       "        vertical-align: top;\n",
       "    }\n",
       "\n",
       "    .dataframe thead th {\n",
       "        text-align: right;\n",
       "    }\n",
       "</style>\n",
       "<table border=\"1\" class=\"dataframe\">\n",
       "  <thead>\n",
       "    <tr style=\"text-align: right;\">\n",
       "      <th></th>\n",
       "      <th>wbuser_id</th>\n",
       "      <th>UQ</th>\n",
       "      <th>locale</th>\n",
       "      <th>cnt</th>\n",
       "      <th>time</th>\n",
       "    </tr>\n",
       "  </thead>\n",
       "  <tbody>\n",
       "    <tr>\n",
       "      <th>0</th>\n",
       "      <td>37bc0ce12ffabce1b1882e66d461ed0e</td>\n",
       "      <td>тапочки женские домашние</td>\n",
       "      <td>Ru</td>\n",
       "      <td>8954</td>\n",
       "      <td>10:48:53</td>\n",
       "    </tr>\n",
       "    <tr>\n",
       "      <th>1</th>\n",
       "      <td>4636a6706e6736d818816d8657565aa2</td>\n",
       "      <td>чехол для бейджика</td>\n",
       "      <td>Ru</td>\n",
       "      <td>1513</td>\n",
       "      <td>10:48:53</td>\n",
       "    </tr>\n",
       "    <tr>\n",
       "      <th>2</th>\n",
       "      <td>708f4040baf99acfc9496563edff1b1a</td>\n",
       "      <td>guess</td>\n",
       "      <td>Ru</td>\n",
       "      <td>35142</td>\n",
       "      <td>10:48:53</td>\n",
       "    </tr>\n",
       "    <tr>\n",
       "      <th>3</th>\n",
       "      <td>70311ec9008a31f743c164e6f1198c86</td>\n",
       "      <td>штора для ванной</td>\n",
       "      <td>Ru</td>\n",
       "      <td>14867578</td>\n",
       "      <td>10:48:53</td>\n",
       "    </tr>\n",
       "    <tr>\n",
       "      <th>4</th>\n",
       "      <td>70311ec9008a31f743c164e6f1198c86</td>\n",
       "      <td>фототфон</td>\n",
       "      <td>Ru</td>\n",
       "      <td>14867578</td>\n",
       "      <td>10:48:53</td>\n",
       "    </tr>\n",
       "  </tbody>\n",
       "</table>\n",
       "</div>"
      ],
      "text/plain": [
       "                          wbuser_id                        UQ locale  \\\n",
       "0  37bc0ce12ffabce1b1882e66d461ed0e  тапочки женские домашние     Ru   \n",
       "1  4636a6706e6736d818816d8657565aa2        чехол для бейджика     Ru   \n",
       "2  708f4040baf99acfc9496563edff1b1a                     guess     Ru   \n",
       "3  70311ec9008a31f743c164e6f1198c86          штора для ванной     Ru   \n",
       "4  70311ec9008a31f743c164e6f1198c86                  фототфон     Ru   \n",
       "\n",
       "        cnt      time  \n",
       "0      8954  10:48:53  \n",
       "1      1513  10:48:53  \n",
       "2     35142  10:48:53  \n",
       "3  14867578  10:48:53  \n",
       "4  14867578  10:48:53  "
      ]
     },
     "execution_count": 16,
     "metadata": {},
     "output_type": "execute_result"
    }
   ],
   "source": [
    "df_sh.head()"
   ]
  },
  {
   "cell_type": "code",
   "execution_count": 17,
   "metadata": {},
   "outputs": [],
   "source": [
    "# dropping numeric values in UQ since most of them are set numbers and lead straight to the item page\n",
    "dh_sh = df_sh[~(df_sh['UQ'].str.isdigit() == True)]"
   ]
  },
  {
   "cell_type": "code",
   "execution_count": 18,
   "metadata": {},
   "outputs": [
    {
     "data": {
      "text/plain": [
       "wbuser_id    0\n",
       "UQ           5\n",
       "locale       0\n",
       "cnt          0\n",
       "time         0\n",
       "dtype: int64"
      ]
     },
     "execution_count": 18,
     "metadata": {},
     "output_type": "execute_result"
    }
   ],
   "source": [
    "df_sh.isnull().sum()"
   ]
  },
  {
   "cell_type": "code",
   "execution_count": 19,
   "metadata": {},
   "outputs": [],
   "source": [
    "df_sh = df_sh.dropna(subset=['UQ'])"
   ]
  },
  {
   "cell_type": "code",
   "execution_count": 20,
   "metadata": {},
   "outputs": [],
   "source": [
    "# dropping uq starting with @ as these are just some trash data with reviews(????)\n",
    "df_sh = df_sh[~(df_sh['UQ'].str[0] == '@')]"
   ]
  },
  {
   "cell_type": "code",
   "execution_count": 21,
   "metadata": {},
   "outputs": [],
   "source": [
    "le = LabelEncoder()\n",
    "df_sh['wbuser_id'] = le.fit_transform(df_sh.wbuser_id)"
   ]
  },
  {
   "cell_type": "code",
   "execution_count": 22,
   "metadata": {},
   "outputs": [
    {
     "data": {
      "text/html": [
       "<div>\n",
       "<style scoped>\n",
       "    .dataframe tbody tr th:only-of-type {\n",
       "        vertical-align: middle;\n",
       "    }\n",
       "\n",
       "    .dataframe tbody tr th {\n",
       "        vertical-align: top;\n",
       "    }\n",
       "\n",
       "    .dataframe thead th {\n",
       "        text-align: right;\n",
       "    }\n",
       "</style>\n",
       "<table border=\"1\" class=\"dataframe\">\n",
       "  <thead>\n",
       "    <tr style=\"text-align: right;\">\n",
       "      <th></th>\n",
       "      <th>wbuser_id</th>\n",
       "      <th>UQ</th>\n",
       "      <th>locale</th>\n",
       "      <th>cnt</th>\n",
       "      <th>time</th>\n",
       "    </tr>\n",
       "  </thead>\n",
       "  <tbody>\n",
       "    <tr>\n",
       "      <th>0</th>\n",
       "      <td>202223</td>\n",
       "      <td>тапочки женские домашние</td>\n",
       "      <td>Ru</td>\n",
       "      <td>8954</td>\n",
       "      <td>10:48:53</td>\n",
       "    </tr>\n",
       "    <tr>\n",
       "      <th>1</th>\n",
       "      <td>254781</td>\n",
       "      <td>чехол для бейджика</td>\n",
       "      <td>Ru</td>\n",
       "      <td>1513</td>\n",
       "      <td>10:48:53</td>\n",
       "    </tr>\n",
       "    <tr>\n",
       "      <th>2</th>\n",
       "      <td>408249</td>\n",
       "      <td>guess</td>\n",
       "      <td>Ru</td>\n",
       "      <td>35142</td>\n",
       "      <td>10:48:53</td>\n",
       "    </tr>\n",
       "    <tr>\n",
       "      <th>3</th>\n",
       "      <td>406925</td>\n",
       "      <td>штора для ванной</td>\n",
       "      <td>Ru</td>\n",
       "      <td>14867578</td>\n",
       "      <td>10:48:53</td>\n",
       "    </tr>\n",
       "    <tr>\n",
       "      <th>4</th>\n",
       "      <td>406925</td>\n",
       "      <td>фототфон</td>\n",
       "      <td>Ru</td>\n",
       "      <td>14867578</td>\n",
       "      <td>10:48:53</td>\n",
       "    </tr>\n",
       "  </tbody>\n",
       "</table>\n",
       "</div>"
      ],
      "text/plain": [
       "   wbuser_id                        UQ locale       cnt      time\n",
       "0     202223  тапочки женские домашние     Ru      8954  10:48:53\n",
       "1     254781        чехол для бейджика     Ru      1513  10:48:53\n",
       "2     408249                     guess     Ru     35142  10:48:53\n",
       "3     406925          штора для ванной     Ru  14867578  10:48:53\n",
       "4     406925                  фототфон     Ru  14867578  10:48:53"
      ]
     },
     "execution_count": 22,
     "metadata": {},
     "output_type": "execute_result"
    }
   ],
   "source": [
    "df_sh.head()"
   ]
  },
  {
   "cell_type": "markdown",
   "metadata": {},
   "source": [
    "## development"
   ]
  },
  {
   "cell_type": "markdown",
   "metadata": {},
   "source": [
    "### sentence transformer"
   ]
  },
  {
   "cell_type": "code",
   "execution_count": 29,
   "metadata": {},
   "outputs": [
    {
     "name": "stderr",
     "output_type": "stream",
     "text": [
      "C:\\Users\\Xiaomi\\AppData\\Roaming\\Python\\Python37\\site-packages\\cryptography\\hazmat\\backends\\openssl\\x509.py:18: CryptographyDeprecationWarning: This version of cryptography contains a temporary pyOpenSSL fallback path. Upgrade pyOpenSSL now.\n",
      "  utils.DeprecatedIn35,\n"
     ]
    },
    {
     "data": {
      "application/vnd.jupyter.widget-view+json": {
       "model_id": "ee7b7ccfc5a94ddabc4a8e655e8bfab7",
       "version_major": 2,
       "version_minor": 0
      },
      "text/plain": [
       "HBox(children=(FloatProgress(value=0.0, description='Downloading', max=1175.0, style=ProgressStyle(description…"
      ]
     },
     "metadata": {},
     "output_type": "display_data"
    },
    {
     "name": "stdout",
     "output_type": "stream",
     "text": [
      "\n"
     ]
    },
    {
     "data": {
      "application/vnd.jupyter.widget-view+json": {
       "model_id": "5e4f74c404e64e538b5a5aff0182af98",
       "version_major": 2,
       "version_minor": 0
      },
      "text/plain": [
       "HBox(children=(FloatProgress(value=0.0, description='Downloading', max=10177.0, style=ProgressStyle(descriptio…"
      ]
     },
     "metadata": {},
     "output_type": "display_data"
    },
    {
     "name": "stdout",
     "output_type": "stream",
     "text": [
      "\n"
     ]
    },
    {
     "data": {
      "application/vnd.jupyter.widget-view+json": {
       "model_id": "8d70e16c14fd42e3a47de434c21d5ffe",
       "version_major": 2,
       "version_minor": 0
      },
      "text/plain": [
       "HBox(children=(FloatProgress(value=0.0, description='Downloading', max=612.0, style=ProgressStyle(description_…"
      ]
     },
     "metadata": {},
     "output_type": "display_data"
    },
    {
     "name": "stdout",
     "output_type": "stream",
     "text": [
      "\n"
     ]
    },
    {
     "data": {
      "application/vnd.jupyter.widget-view+json": {
       "model_id": "dcad9c4ed28c47e3869dbc753a8c6a98",
       "version_major": 2,
       "version_minor": 0
      },
      "text/plain": [
       "HBox(children=(FloatProgress(value=0.0, description='Downloading', max=116.0, style=ProgressStyle(description_…"
      ]
     },
     "metadata": {},
     "output_type": "display_data"
    },
    {
     "name": "stdout",
     "output_type": "stream",
     "text": [
      "\n"
     ]
    },
    {
     "data": {
      "application/vnd.jupyter.widget-view+json": {
       "model_id": "d812d8c9904b4407a96d88ef8068e8b9",
       "version_major": 2,
       "version_minor": 0
      },
      "text/plain": [
       "HBox(children=(FloatProgress(value=0.0, description='Downloading', max=39265.0, style=ProgressStyle(descriptio…"
      ]
     },
     "metadata": {},
     "output_type": "display_data"
    },
    {
     "name": "stdout",
     "output_type": "stream",
     "text": [
      "\n"
     ]
    },
    {
     "data": {
      "application/vnd.jupyter.widget-view+json": {
       "model_id": "b3a8193295ec4fd2aef653724feeb651",
       "version_major": 2,
       "version_minor": 0
      },
      "text/plain": [
       "HBox(children=(FloatProgress(value=0.0, description='Downloading', max=349.0, style=ProgressStyle(description_…"
      ]
     },
     "metadata": {},
     "output_type": "display_data"
    },
    {
     "name": "stdout",
     "output_type": "stream",
     "text": [
      "\n"
     ]
    },
    {
     "data": {
      "application/vnd.jupyter.widget-view+json": {
       "model_id": "51824a1771814c5485a3392c9b15eedc",
       "version_major": 2,
       "version_minor": 0
      },
      "text/plain": [
       "HBox(children=(FloatProgress(value=0.0, description='Downloading', max=90888945.0, style=ProgressStyle(descrip…"
      ]
     },
     "metadata": {},
     "output_type": "display_data"
    },
    {
     "name": "stdout",
     "output_type": "stream",
     "text": [
      "\n"
     ]
    },
    {
     "data": {
      "application/vnd.jupyter.widget-view+json": {
       "model_id": "5867165d712f4c1da72edb798c12b620",
       "version_major": 2,
       "version_minor": 0
      },
      "text/plain": [
       "HBox(children=(FloatProgress(value=0.0, description='Downloading', max=53.0, style=ProgressStyle(description_w…"
      ]
     },
     "metadata": {},
     "output_type": "display_data"
    },
    {
     "name": "stdout",
     "output_type": "stream",
     "text": [
      "\n"
     ]
    },
    {
     "data": {
      "application/vnd.jupyter.widget-view+json": {
       "model_id": "deb119bf564e4155897c1b8ea2154ae3",
       "version_major": 2,
       "version_minor": 0
      },
      "text/plain": [
       "HBox(children=(FloatProgress(value=0.0, description='Downloading', max=112.0, style=ProgressStyle(description_…"
      ]
     },
     "metadata": {},
     "output_type": "display_data"
    },
    {
     "name": "stdout",
     "output_type": "stream",
     "text": [
      "\n"
     ]
    },
    {
     "data": {
      "application/vnd.jupyter.widget-view+json": {
       "model_id": "5f63dac27d7a4d8f9f2965d2f56a3dfa",
       "version_major": 2,
       "version_minor": 0
      },
      "text/plain": [
       "HBox(children=(FloatProgress(value=0.0, description='Downloading', max=466247.0, style=ProgressStyle(descripti…"
      ]
     },
     "metadata": {},
     "output_type": "display_data"
    },
    {
     "name": "stdout",
     "output_type": "stream",
     "text": [
      "\n"
     ]
    },
    {
     "data": {
      "application/vnd.jupyter.widget-view+json": {
       "model_id": "dcb2a8e0f9474965af3ec3ca73584188",
       "version_major": 2,
       "version_minor": 0
      },
      "text/plain": [
       "HBox(children=(FloatProgress(value=0.0, description='Downloading', max=350.0, style=ProgressStyle(description_…"
      ]
     },
     "metadata": {},
     "output_type": "display_data"
    },
    {
     "name": "stdout",
     "output_type": "stream",
     "text": [
      "\n"
     ]
    },
    {
     "data": {
      "application/vnd.jupyter.widget-view+json": {
       "model_id": "07f479ddac974e18908a64dcf72cc6c1",
       "version_major": 2,
       "version_minor": 0
      },
      "text/plain": [
       "HBox(children=(FloatProgress(value=0.0, description='Downloading', max=13156.0, style=ProgressStyle(descriptio…"
      ]
     },
     "metadata": {},
     "output_type": "display_data"
    },
    {
     "name": "stdout",
     "output_type": "stream",
     "text": [
      "\n"
     ]
    },
    {
     "data": {
      "application/vnd.jupyter.widget-view+json": {
       "model_id": "58cddadb513a4d52926c9a43cebb949d",
       "version_major": 2,
       "version_minor": 0
      },
      "text/plain": [
       "HBox(children=(FloatProgress(value=0.0, description='Downloading', max=231508.0, style=ProgressStyle(descripti…"
      ]
     },
     "metadata": {},
     "output_type": "display_data"
    },
    {
     "name": "stdout",
     "output_type": "stream",
     "text": [
      "\n"
     ]
    },
    {
     "data": {
      "application/vnd.jupyter.widget-view+json": {
       "model_id": "e31fc3a48a16445c84cf968319c3d922",
       "version_major": 2,
       "version_minor": 0
      },
      "text/plain": [
       "HBox(children=(FloatProgress(value=0.0, description='Downloading', max=190.0, style=ProgressStyle(description_…"
      ]
     },
     "metadata": {},
     "output_type": "display_data"
    },
    {
     "name": "stdout",
     "output_type": "stream",
     "text": [
      "\n"
     ]
    }
   ],
   "source": [
    "from sentence_transformers import SentenceTransformer\n",
    "model = SentenceTransformer('all-MiniLM-L6-v2')"
   ]
  },
  {
   "cell_type": "code",
   "execution_count": 160,
   "metadata": {},
   "outputs": [
    {
     "name": "stdout",
     "output_type": "stream",
     "text": [
      "Wall time: 43min 6s\n"
     ]
    }
   ],
   "source": [
    "%%time\n",
    "#creating embeddings for 500k corpus of request (UQ)\n",
    "sentences = df_sh[:500000].UQ.tolist()\n",
    "sentence_embeddings = model.encode(sentences)"
   ]
  },
  {
   "cell_type": "code",
   "execution_count": 311,
   "metadata": {},
   "outputs": [],
   "source": [
    "#simple representation vectors\n",
    "#for sentence, embedding in zip(sentences, sentence_embeddings):\n",
    "    #print(\"Sentence:\", sentence)\n",
    "    #print(\"Embedding:\", embedding)\n",
    "    #print(len(embedding))\n",
    "    #print(\"\")"
   ]
  },
  {
   "cell_type": "code",
   "execution_count": 283,
   "metadata": {},
   "outputs": [
    {
     "data": {
      "text/html": [
       "<div>\n",
       "<style scoped>\n",
       "    .dataframe tbody tr th:only-of-type {\n",
       "        vertical-align: middle;\n",
       "    }\n",
       "\n",
       "    .dataframe tbody tr th {\n",
       "        vertical-align: top;\n",
       "    }\n",
       "\n",
       "    .dataframe thead th {\n",
       "        text-align: right;\n",
       "    }\n",
       "</style>\n",
       "<table border=\"1\" class=\"dataframe\">\n",
       "  <thead>\n",
       "    <tr style=\"text-align: right;\">\n",
       "      <th></th>\n",
       "      <th>text</th>\n",
       "    </tr>\n",
       "  </thead>\n",
       "  <tbody>\n",
       "    <tr>\n",
       "      <th>0</th>\n",
       "      <td>тапочки женские домашние</td>\n",
       "    </tr>\n",
       "    <tr>\n",
       "      <th>1</th>\n",
       "      <td>чехол для бейджика</td>\n",
       "    </tr>\n",
       "    <tr>\n",
       "      <th>2</th>\n",
       "      <td>guess</td>\n",
       "    </tr>\n",
       "    <tr>\n",
       "      <th>3</th>\n",
       "      <td>штора для ванной</td>\n",
       "    </tr>\n",
       "    <tr>\n",
       "      <th>4</th>\n",
       "      <td>фототфон</td>\n",
       "    </tr>\n",
       "  </tbody>\n",
       "</table>\n",
       "</div>"
      ],
      "text/plain": [
       "                       text\n",
       "0  тапочки женские домашние\n",
       "1        чехол для бейджика\n",
       "2                     guess\n",
       "3          штора для ванной\n",
       "4                  фототфон"
      ]
     },
     "execution_count": 283,
     "metadata": {},
     "output_type": "execute_result"
    }
   ],
   "source": [
    "#creating DataFrame with query\n",
    "sent = pd.DataFrame(sentences, columns=['text'])\n",
    "sent.head()"
   ]
  },
  {
   "cell_type": "code",
   "execution_count": 294,
   "metadata": {},
   "outputs": [
    {
     "name": "stdout",
     "output_type": "stream",
     "text": [
      "Wall time: 58.9 s\n"
     ]
    }
   ],
   "source": [
    "%%time\n",
    "#choice our UQ (text column in our df sent) == 'тапочки женские домашние' (index == 0 in sentence_embeddings)\n",
    "df_0 = pd.DataFrame(columns=['UQ', 'cos'])\n",
    "df_0.UQ = df_sh[:100000].UQ.reset_index(drop=True)\n",
    "for i in range(100000):    \n",
    "    df_0['cos'][i] = 1 - spatial.distance.cosine(sentence_embeddings[0], sentence_embeddings[i])"
   ]
  },
  {
   "cell_type": "code",
   "execution_count": 295,
   "metadata": {},
   "outputs": [
    {
     "data": {
      "text/html": [
       "<div>\n",
       "<style scoped>\n",
       "    .dataframe tbody tr th:only-of-type {\n",
       "        vertical-align: middle;\n",
       "    }\n",
       "\n",
       "    .dataframe tbody tr th {\n",
       "        vertical-align: top;\n",
       "    }\n",
       "\n",
       "    .dataframe thead th {\n",
       "        text-align: right;\n",
       "    }\n",
       "</style>\n",
       "<table border=\"1\" class=\"dataframe\">\n",
       "  <thead>\n",
       "    <tr style=\"text-align: right;\">\n",
       "      <th></th>\n",
       "      <th>UQ</th>\n",
       "      <th>cos</th>\n",
       "    </tr>\n",
       "  </thead>\n",
       "  <tbody>\n",
       "    <tr>\n",
       "      <th>70637</th>\n",
       "      <td>женские тапочки домашние</td>\n",
       "      <td>0.991687</td>\n",
       "    </tr>\n",
       "    <tr>\n",
       "      <th>73460</th>\n",
       "      <td>тапочки домашние женские</td>\n",
       "      <td>0.99088</td>\n",
       "    </tr>\n",
       "    <tr>\n",
       "      <th>63505</th>\n",
       "      <td>домашние тапочки женские</td>\n",
       "      <td>0.984842</td>\n",
       "    </tr>\n",
       "    <tr>\n",
       "      <th>10152</th>\n",
       "      <td>домашние тапки женские</td>\n",
       "      <td>0.969263</td>\n",
       "    </tr>\n",
       "    <tr>\n",
       "      <th>56806</th>\n",
       "      <td>тапки домашние женские</td>\n",
       "      <td>0.968482</td>\n",
       "    </tr>\n",
       "    <tr>\n",
       "      <th>70253</th>\n",
       "      <td>тапочки женские домашние теплые</td>\n",
       "      <td>0.965219</td>\n",
       "    </tr>\n",
       "    <tr>\n",
       "      <th>15815</th>\n",
       "      <td>тапочки женские домашние кожаные</td>\n",
       "      <td>0.941844</td>\n",
       "    </tr>\n",
       "    <tr>\n",
       "      <th>37093</th>\n",
       "      <td>сапожки домашние женские</td>\n",
       "      <td>0.940887</td>\n",
       "    </tr>\n",
       "    <tr>\n",
       "      <th>79947</th>\n",
       "      <td>домашние сапожки женские</td>\n",
       "      <td>0.936585</td>\n",
       "    </tr>\n",
       "    <tr>\n",
       "      <th>65846</th>\n",
       "      <td>тапочки домашние</td>\n",
       "      <td>0.935661</td>\n",
       "    </tr>\n",
       "    <tr>\n",
       "      <th>15430</th>\n",
       "      <td>капри женские домашние</td>\n",
       "      <td>0.926631</td>\n",
       "    </tr>\n",
       "    <tr>\n",
       "      <th>22495</th>\n",
       "      <td>домашние тапочки</td>\n",
       "      <td>0.919769</td>\n",
       "    </tr>\n",
       "    <tr>\n",
       "      <th>38709</th>\n",
       "      <td>чуни женские домашние</td>\n",
       "      <td>0.91829</td>\n",
       "    </tr>\n",
       "    <tr>\n",
       "      <th>36937</th>\n",
       "      <td>тапочки женские домашние турция</td>\n",
       "      <td>0.917444</td>\n",
       "    </tr>\n",
       "    <tr>\n",
       "      <th>90751</th>\n",
       "      <td>тапочки женские домашние на каблуке</td>\n",
       "      <td>0.916003</td>\n",
       "    </tr>\n",
       "    <tr>\n",
       "      <th>96162</th>\n",
       "      <td>тапочки теплые домашние</td>\n",
       "      <td>0.913735</td>\n",
       "    </tr>\n",
       "    <tr>\n",
       "      <th>25160</th>\n",
       "      <td>тапочки мужские домашние</td>\n",
       "      <td>0.913184</td>\n",
       "    </tr>\n",
       "    <tr>\n",
       "      <th>54792</th>\n",
       "      <td>тапочки женские домашние обувь</td>\n",
       "      <td>0.912294</td>\n",
       "    </tr>\n",
       "    <tr>\n",
       "      <th>28265</th>\n",
       "      <td>тапки домашние</td>\n",
       "      <td>0.909381</td>\n",
       "    </tr>\n",
       "    <tr>\n",
       "      <th>78324</th>\n",
       "      <td>тапочки для дома женские открытые</td>\n",
       "      <td>0.908612</td>\n",
       "    </tr>\n",
       "    <tr>\n",
       "      <th>48313</th>\n",
       "      <td>тапки женские домашние обувь</td>\n",
       "      <td>0.908463</td>\n",
       "    </tr>\n",
       "    <tr>\n",
       "      <th>57238</th>\n",
       "      <td>тапки детские домашние</td>\n",
       "      <td>0.907296</td>\n",
       "    </tr>\n",
       "    <tr>\n",
       "      <th>76578</th>\n",
       "      <td>домашние тапочки осенние</td>\n",
       "      <td>0.905141</td>\n",
       "    </tr>\n",
       "    <tr>\n",
       "      <th>60153</th>\n",
       "      <td>сапоги замшевые демисизонные женские</td>\n",
       "      <td>0.905054</td>\n",
       "    </tr>\n",
       "  </tbody>\n",
       "</table>\n",
       "</div>"
      ],
      "text/plain": [
       "                                         UQ       cos\n",
       "70637              женские тапочки домашние  0.991687\n",
       "73460              тапочки домашние женские   0.99088\n",
       "63505              домашние тапочки женские  0.984842\n",
       "10152                домашние тапки женские  0.969263\n",
       "56806                тапки домашние женские  0.968482\n",
       "70253       тапочки женские домашние теплые  0.965219\n",
       "15815      тапочки женские домашние кожаные  0.941844\n",
       "37093              сапожки домашние женские  0.940887\n",
       "79947              домашние сапожки женские  0.936585\n",
       "65846                      тапочки домашние  0.935661\n",
       "15430                капри женские домашние  0.926631\n",
       "22495                      домашние тапочки  0.919769\n",
       "38709                 чуни женские домашние   0.91829\n",
       "36937       тапочки женские домашние турция  0.917444\n",
       "90751   тапочки женские домашние на каблуке  0.916003\n",
       "96162               тапочки теплые домашние  0.913735\n",
       "25160              тапочки мужские домашние  0.913184\n",
       "54792        тапочки женские домашние обувь  0.912294\n",
       "28265                        тапки домашние  0.909381\n",
       "78324     тапочки для дома женские открытые  0.908612\n",
       "48313          тапки женские домашние обувь  0.908463\n",
       "57238                тапки детские домашние  0.907296\n",
       "76578              домашние тапочки осенние  0.905141\n",
       "60153  сапоги замшевые демисизонные женские  0.905054"
      ]
     },
     "execution_count": 295,
     "metadata": {},
     "output_type": "execute_result"
    }
   ],
   "source": [
    "#top tags for 'тапочки женские домашние'\n",
    "df_0.sort_values(by='cos', ascending=False).drop_duplicates('UQ').head(25)[1:]"
   ]
  },
  {
   "cell_type": "code",
   "execution_count": 298,
   "metadata": {},
   "outputs": [
    {
     "name": "stdout",
     "output_type": "stream",
     "text": [
      "Wall time: 1min 16s\n"
     ]
    }
   ],
   "source": [
    "%%time\n",
    "#choice our UQ (text column in our df sent) == 'guess' (index == 2 in sentence_embeddings)\n",
    "df_2 = pd.DataFrame(columns=['UQ', 'cos'])\n",
    "df_2.UQ = df_sh[:100000].UQ.reset_index(drop=True)\n",
    "for i in range(100000):    \n",
    "    df_2['cos'][i] = 1 - spatial.distance.cosine(sentence_embeddings[2], sentence_embeddings[i])"
   ]
  },
  {
   "cell_type": "code",
   "execution_count": 299,
   "metadata": {},
   "outputs": [
    {
     "data": {
      "text/html": [
       "<div>\n",
       "<style scoped>\n",
       "    .dataframe tbody tr th:only-of-type {\n",
       "        vertical-align: middle;\n",
       "    }\n",
       "\n",
       "    .dataframe tbody tr th {\n",
       "        vertical-align: top;\n",
       "    }\n",
       "\n",
       "    .dataframe thead th {\n",
       "        text-align: right;\n",
       "    }\n",
       "</style>\n",
       "<table border=\"1\" class=\"dataframe\">\n",
       "  <thead>\n",
       "    <tr style=\"text-align: right;\">\n",
       "      <th></th>\n",
       "      <th>UQ</th>\n",
       "      <th>cos</th>\n",
       "    </tr>\n",
       "  </thead>\n",
       "  <tbody>\n",
       "    <tr>\n",
       "      <th>17446</th>\n",
       "      <td>майка guess</td>\n",
       "      <td>0.423796</td>\n",
       "    </tr>\n",
       "    <tr>\n",
       "      <th>73638</th>\n",
       "      <td>guess сумка</td>\n",
       "      <td>0.414521</td>\n",
       "    </tr>\n",
       "    <tr>\n",
       "      <th>8212</th>\n",
       "      <td>guess обувь</td>\n",
       "      <td>0.410383</td>\n",
       "    </tr>\n",
       "    <tr>\n",
       "      <th>39087</th>\n",
       "      <td>wayday</td>\n",
       "      <td>0.408542</td>\n",
       "    </tr>\n",
       "    <tr>\n",
       "      <th>53545</th>\n",
       "      <td>ifha</td>\n",
       "      <td>0.403695</td>\n",
       "    </tr>\n",
       "    <tr>\n",
       "      <th>81167</th>\n",
       "      <td>dunni</td>\n",
       "      <td>0.384391</td>\n",
       "    </tr>\n",
       "    <tr>\n",
       "      <th>85715</th>\n",
       "      <td>delusion</td>\n",
       "      <td>0.384297</td>\n",
       "    </tr>\n",
       "    <tr>\n",
       "      <th>95545</th>\n",
       "      <td>seventeen</td>\n",
       "      <td>0.380342</td>\n",
       "    </tr>\n",
       "    <tr>\n",
       "      <th>41745</th>\n",
       "      <td>between</td>\n",
       "      <td>0.378893</td>\n",
       "    </tr>\n",
       "    <tr>\n",
       "      <th>32335</th>\n",
       "      <td>shik</td>\n",
       "      <td>0.378093</td>\n",
       "    </tr>\n",
       "    <tr>\n",
       "      <th>64688</th>\n",
       "      <td>k do</td>\n",
       "      <td>0.378018</td>\n",
       "    </tr>\n",
       "    <tr>\n",
       "      <th>29955</th>\n",
       "      <td>15</td>\n",
       "      <td>0.374779</td>\n",
       "    </tr>\n",
       "    <tr>\n",
       "      <th>76471</th>\n",
       "      <td>35</td>\n",
       "      <td>0.37129</td>\n",
       "    </tr>\n",
       "    <tr>\n",
       "      <th>98235</th>\n",
       "      <td>kidz</td>\n",
       "      <td>0.370226</td>\n",
       "    </tr>\n",
       "    <tr>\n",
       "      <th>20227</th>\n",
       "      <td>3</td>\n",
       "      <td>0.368634</td>\n",
       "    </tr>\n",
       "    <tr>\n",
       "      <th>81408</th>\n",
       "      <td>ck</td>\n",
       "      <td>0.365718</td>\n",
       "    </tr>\n",
       "    <tr>\n",
       "      <th>89954</th>\n",
       "      <td>p</td>\n",
       "      <td>0.365196</td>\n",
       "    </tr>\n",
       "    <tr>\n",
       "      <th>15966</th>\n",
       "      <td>give me five</td>\n",
       "      <td>0.362684</td>\n",
       "    </tr>\n",
       "    <tr>\n",
       "      <th>95581</th>\n",
       "      <td>maybellin</td>\n",
       "      <td>0.358862</td>\n",
       "    </tr>\n",
       "    <tr>\n",
       "      <th>44859</th>\n",
       "      <td>2</td>\n",
       "      <td>0.358622</td>\n",
       "    </tr>\n",
       "    <tr>\n",
       "      <th>10893</th>\n",
       "      <td>guess женщинам</td>\n",
       "      <td>0.35008</td>\n",
       "    </tr>\n",
       "    <tr>\n",
       "      <th>75381</th>\n",
       "      <td>pure</td>\n",
       "      <td>0.349419</td>\n",
       "    </tr>\n",
       "    <tr>\n",
       "      <th>60434</th>\n",
       "      <td>contest</td>\n",
       "      <td>0.347691</td>\n",
       "    </tr>\n",
       "    <tr>\n",
       "      <th>81463</th>\n",
       "      <td>age</td>\n",
       "      <td>0.347161</td>\n",
       "    </tr>\n",
       "  </tbody>\n",
       "</table>\n",
       "</div>"
      ],
      "text/plain": [
       "                   UQ       cos\n",
       "17446     майка guess  0.423796\n",
       "73638     guess сумка  0.414521\n",
       "8212      guess обувь  0.410383\n",
       "39087          wayday  0.408542\n",
       "53545            ifha  0.403695\n",
       "81167           dunni  0.384391\n",
       "85715        delusion  0.384297\n",
       "95545       seventeen  0.380342\n",
       "41745         between  0.378893\n",
       "32335            shik  0.378093\n",
       "64688            k do  0.378018\n",
       "29955              15  0.374779\n",
       "76471              35   0.37129\n",
       "98235            kidz  0.370226\n",
       "20227               3  0.368634\n",
       "81408              ck  0.365718\n",
       "89954               p  0.365196\n",
       "15966    give me five  0.362684\n",
       "95581       maybellin  0.358862\n",
       "44859               2  0.358622\n",
       "10893  guess женщинам   0.35008\n",
       "75381            pure  0.349419\n",
       "60434         contest  0.347691\n",
       "81463             age  0.347161"
      ]
     },
     "execution_count": 299,
     "metadata": {},
     "output_type": "execute_result"
    }
   ],
   "source": [
    "#top tags for 'guess'\n",
    "df_2.sort_values(by='cos', ascending=False).drop_duplicates('UQ').head(25)[1:]"
   ]
  },
  {
   "cell_type": "code",
   "execution_count": 301,
   "metadata": {},
   "outputs": [
    {
     "name": "stdout",
     "output_type": "stream",
     "text": [
      "Wall time: 51.4 s\n"
     ]
    }
   ],
   "source": [
    "%%time\n",
    "#choice our UQ (text column in our df sent) == 'юбка кожаная' (index == 7985 in sentence_embeddings)\n",
    "df_7985 = pd.DataFrame(columns=['UQ', 'cos'])\n",
    "df_7985.UQ = df_sh[:100000].UQ.reset_index(drop=True)\n",
    "for i in range(100000):    \n",
    "    df_7985['cos'][i] = 1 - spatial.distance.cosine(sentence_embeddings[7985], sentence_embeddings[i])"
   ]
  },
  {
   "cell_type": "code",
   "execution_count": 302,
   "metadata": {},
   "outputs": [
    {
     "data": {
      "text/html": [
       "<div>\n",
       "<style scoped>\n",
       "    .dataframe tbody tr th:only-of-type {\n",
       "        vertical-align: middle;\n",
       "    }\n",
       "\n",
       "    .dataframe tbody tr th {\n",
       "        vertical-align: top;\n",
       "    }\n",
       "\n",
       "    .dataframe thead th {\n",
       "        text-align: right;\n",
       "    }\n",
       "</style>\n",
       "<table border=\"1\" class=\"dataframe\">\n",
       "  <thead>\n",
       "    <tr style=\"text-align: right;\">\n",
       "      <th></th>\n",
       "      <th>UQ</th>\n",
       "      <th>cos</th>\n",
       "    </tr>\n",
       "  </thead>\n",
       "  <tbody>\n",
       "    <tr>\n",
       "      <th>58180</th>\n",
       "      <td>кожаная юбка</td>\n",
       "      <td>0.980065</td>\n",
       "    </tr>\n",
       "    <tr>\n",
       "      <th>2197</th>\n",
       "      <td>юбка кожа</td>\n",
       "      <td>0.961375</td>\n",
       "    </tr>\n",
       "    <tr>\n",
       "      <th>6097</th>\n",
       "      <td>юбка кожаная черная</td>\n",
       "      <td>0.953522</td>\n",
       "    </tr>\n",
       "    <tr>\n",
       "      <th>50920</th>\n",
       "      <td>брюки юбка кожаная</td>\n",
       "      <td>0.94736</td>\n",
       "    </tr>\n",
       "    <tr>\n",
       "      <th>51316</th>\n",
       "      <td>юбка женская кожаная</td>\n",
       "      <td>0.935111</td>\n",
       "    </tr>\n",
       "    <tr>\n",
       "      <th>96680</th>\n",
       "      <td>кожаная накидка юбка</td>\n",
       "      <td>0.93067</td>\n",
       "    </tr>\n",
       "    <tr>\n",
       "      <th>31181</th>\n",
       "      <td>юбка кожаная женская</td>\n",
       "      <td>0.927986</td>\n",
       "    </tr>\n",
       "    <tr>\n",
       "      <th>40234</th>\n",
       "      <td>юбка кожаная карандаш</td>\n",
       "      <td>0.927801</td>\n",
       "    </tr>\n",
       "    <tr>\n",
       "      <th>41355</th>\n",
       "      <td>юбка экокожа</td>\n",
       "      <td>0.925355</td>\n",
       "    </tr>\n",
       "    <tr>\n",
       "      <th>22512</th>\n",
       "      <td>женская кожаная юбка</td>\n",
       "      <td>0.921695</td>\n",
       "    </tr>\n",
       "    <tr>\n",
       "      <th>31450</th>\n",
       "      <td>юбка кубанская</td>\n",
       "      <td>0.921205</td>\n",
       "    </tr>\n",
       "    <tr>\n",
       "      <th>22424</th>\n",
       "      <td>кожаная юбка плиссе</td>\n",
       "      <td>0.918313</td>\n",
       "    </tr>\n",
       "    <tr>\n",
       "      <th>62590</th>\n",
       "      <td>кожаная юбка женская</td>\n",
       "      <td>0.915472</td>\n",
       "    </tr>\n",
       "    <tr>\n",
       "      <th>17499</th>\n",
       "      <td>юбка кожаная миди</td>\n",
       "      <td>0.913796</td>\n",
       "    </tr>\n",
       "    <tr>\n",
       "      <th>78174</th>\n",
       "      <td>красная юбка</td>\n",
       "      <td>0.902023</td>\n",
       "    </tr>\n",
       "    <tr>\n",
       "      <th>45402</th>\n",
       "      <td>коричневя юбка экокожа</td>\n",
       "      <td>0.899371</td>\n",
       "    </tr>\n",
       "    <tr>\n",
       "      <th>64313</th>\n",
       "      <td>юбка трикотажная карандаш</td>\n",
       "      <td>0.892412</td>\n",
       "    </tr>\n",
       "    <tr>\n",
       "      <th>28485</th>\n",
       "      <td>юбка костюмная синяя</td>\n",
       "      <td>0.890966</td>\n",
       "    </tr>\n",
       "    <tr>\n",
       "      <th>21450</th>\n",
       "      <td>юбка из экокожи</td>\n",
       "      <td>0.889601</td>\n",
       "    </tr>\n",
       "    <tr>\n",
       "      <th>12601</th>\n",
       "      <td>юбка вискоза</td>\n",
       "      <td>0.889534</td>\n",
       "    </tr>\n",
       "    <tr>\n",
       "      <th>81206</th>\n",
       "      <td>юбка карандаш из экокожи</td>\n",
       "      <td>0.889397</td>\n",
       "    </tr>\n",
       "    <tr>\n",
       "      <th>469</th>\n",
       "      <td>юбка джинсовая</td>\n",
       "      <td>0.888641</td>\n",
       "    </tr>\n",
       "    <tr>\n",
       "      <th>89119</th>\n",
       "      <td>юбка карандаш</td>\n",
       "      <td>0.886654</td>\n",
       "    </tr>\n",
       "    <tr>\n",
       "      <th>49578</th>\n",
       "      <td>костюм юбка-брюки</td>\n",
       "      <td>0.882564</td>\n",
       "    </tr>\n",
       "  </tbody>\n",
       "</table>\n",
       "</div>"
      ],
      "text/plain": [
       "                              UQ       cos\n",
       "58180               кожаная юбка  0.980065\n",
       "2197                   юбка кожа  0.961375\n",
       "6097         юбка кожаная черная  0.953522\n",
       "50920         брюки юбка кожаная   0.94736\n",
       "51316       юбка женская кожаная  0.935111\n",
       "96680       кожаная накидка юбка   0.93067\n",
       "31181       юбка кожаная женская  0.927986\n",
       "40234      юбка кожаная карандаш  0.927801\n",
       "41355               юбка экокожа  0.925355\n",
       "22512       женская кожаная юбка  0.921695\n",
       "31450             юбка кубанская  0.921205\n",
       "22424        кожаная юбка плиссе  0.918313\n",
       "62590       кожаная юбка женская  0.915472\n",
       "17499          юбка кожаная миди  0.913796\n",
       "78174               красная юбка  0.902023\n",
       "45402     коричневя юбка экокожа  0.899371\n",
       "64313  юбка трикотажная карандаш  0.892412\n",
       "28485       юбка костюмная синяя  0.890966\n",
       "21450            юбка из экокожи  0.889601\n",
       "12601               юбка вискоза  0.889534\n",
       "81206   юбка карандаш из экокожи  0.889397\n",
       "469               юбка джинсовая  0.888641\n",
       "89119              юбка карандаш  0.886654\n",
       "49578          костюм юбка-брюки  0.882564"
      ]
     },
     "execution_count": 302,
     "metadata": {},
     "output_type": "execute_result"
    }
   ],
   "source": [
    "#top tags for 'юбка кожаная'\n",
    "df_7985.sort_values(by='cos', ascending=False).drop_duplicates('UQ').head(25)[1:]"
   ]
  },
  {
   "cell_type": "code",
   "execution_count": 304,
   "metadata": {},
   "outputs": [
    {
     "name": "stdout",
     "output_type": "stream",
     "text": [
      "Wall time: 52.4 s\n"
     ]
    }
   ],
   "source": [
    "%%time\n",
    "#choice our UQ (text column in our df sent) == 'новогодняя елка' (index == 159017 in sentence_embeddings)\n",
    "df_159017 = pd.DataFrame(columns=['UQ', 'cos'])\n",
    "df_159017.UQ = df_sh[:100000].UQ.reset_index(drop=True)\n",
    "for i in range(100000):    \n",
    "    df_159017['cos'][i] = 1 - spatial.distance.cosine(sentence_embeddings[159017], sentence_embeddings[i])"
   ]
  },
  {
   "cell_type": "code",
   "execution_count": 305,
   "metadata": {},
   "outputs": [
    {
     "data": {
      "text/html": [
       "<div>\n",
       "<style scoped>\n",
       "    .dataframe tbody tr th:only-of-type {\n",
       "        vertical-align: middle;\n",
       "    }\n",
       "\n",
       "    .dataframe tbody tr th {\n",
       "        vertical-align: top;\n",
       "    }\n",
       "\n",
       "    .dataframe thead th {\n",
       "        text-align: right;\n",
       "    }\n",
       "</style>\n",
       "<table border=\"1\" class=\"dataframe\">\n",
       "  <thead>\n",
       "    <tr style=\"text-align: right;\">\n",
       "      <th></th>\n",
       "      <th>UQ</th>\n",
       "      <th>cos</th>\n",
       "    </tr>\n",
       "  </thead>\n",
       "  <tbody>\n",
       "    <tr>\n",
       "      <th>10092</th>\n",
       "      <td>елка новогодняя декоративная</td>\n",
       "      <td>0.880721</td>\n",
       "    </tr>\n",
       "    <tr>\n",
       "      <th>87495</th>\n",
       "      <td>елка новогодняя искусственная</td>\n",
       "      <td>0.877084</td>\n",
       "    </tr>\n",
       "    <tr>\n",
       "      <th>53151</th>\n",
       "      <td>наволочка новогодняя</td>\n",
       "      <td>0.872253</td>\n",
       "    </tr>\n",
       "    <tr>\n",
       "      <th>70000</th>\n",
       "      <td>новогодние елки</td>\n",
       "      <td>0.86518</td>\n",
       "    </tr>\n",
       "    <tr>\n",
       "      <th>41555</th>\n",
       "      <td>новогодняя веточка</td>\n",
       "      <td>0.844395</td>\n",
       "    </tr>\n",
       "    <tr>\n",
       "      <th>24415</th>\n",
       "      <td>новогодняя снегурочка</td>\n",
       "      <td>0.840804</td>\n",
       "    </tr>\n",
       "    <tr>\n",
       "      <th>14101</th>\n",
       "      <td>сковородка недорогая</td>\n",
       "      <td>0.834306</td>\n",
       "    </tr>\n",
       "    <tr>\n",
       "      <th>73415</th>\n",
       "      <td>угловая пока</td>\n",
       "      <td>0.822025</td>\n",
       "    </tr>\n",
       "    <tr>\n",
       "      <th>75176</th>\n",
       "      <td>щетка для новорожденного</td>\n",
       "      <td>0.819972</td>\n",
       "    </tr>\n",
       "    <tr>\n",
       "      <th>10544</th>\n",
       "      <td>коробка новогодняя</td>\n",
       "      <td>0.819517</td>\n",
       "    </tr>\n",
       "    <tr>\n",
       "      <th>23787</th>\n",
       "      <td>полка угловая</td>\n",
       "      <td>0.818817</td>\n",
       "    </tr>\n",
       "    <tr>\n",
       "      <th>87621</th>\n",
       "      <td>новогодняя скатерть</td>\n",
       "      <td>0.816523</td>\n",
       "    </tr>\n",
       "    <tr>\n",
       "      <th>50466</th>\n",
       "      <td>угловая подставка</td>\n",
       "      <td>0.815079</td>\n",
       "    </tr>\n",
       "    <tr>\n",
       "      <th>39713</th>\n",
       "      <td>стакан новогодние</td>\n",
       "      <td>0.812751</td>\n",
       "    </tr>\n",
       "    <tr>\n",
       "      <th>83654</th>\n",
       "      <td>новогодняя мягкая игрушка</td>\n",
       "      <td>0.806964</td>\n",
       "    </tr>\n",
       "    <tr>\n",
       "      <th>52165</th>\n",
       "      <td>алмазная мозаика новогодняя</td>\n",
       "      <td>0.804938</td>\n",
       "    </tr>\n",
       "    <tr>\n",
       "      <th>19506</th>\n",
       "      <td>нижегородская елочная игрушка</td>\n",
       "      <td>0.802537</td>\n",
       "    </tr>\n",
       "    <tr>\n",
       "      <th>57231</th>\n",
       "      <td>кроватка для новорожденного</td>\n",
       "      <td>0.801951</td>\n",
       "    </tr>\n",
       "    <tr>\n",
       "      <th>15635</th>\n",
       "      <td>новогоднее</td>\n",
       "      <td>0.799751</td>\n",
       "    </tr>\n",
       "    <tr>\n",
       "      <th>2857</th>\n",
       "      <td>пижама для мальчика новогодняя</td>\n",
       "      <td>0.796201</td>\n",
       "    </tr>\n",
       "    <tr>\n",
       "      <th>33226</th>\n",
       "      <td>мягкая игрушка для новорожденного</td>\n",
       "      <td>0.796072</td>\n",
       "    </tr>\n",
       "    <tr>\n",
       "      <th>52263</th>\n",
       "      <td>для нового года</td>\n",
       "      <td>0.794932</td>\n",
       "    </tr>\n",
       "    <tr>\n",
       "      <th>29194</th>\n",
       "      <td>сказка одеяло</td>\n",
       "      <td>0.794909</td>\n",
       "    </tr>\n",
       "    <tr>\n",
       "      <th>5152</th>\n",
       "      <td>новогодний подарок</td>\n",
       "      <td>0.794551</td>\n",
       "    </tr>\n",
       "  </tbody>\n",
       "</table>\n",
       "</div>"
      ],
      "text/plain": [
       "                                      UQ       cos\n",
       "10092       елка новогодняя декоративная  0.880721\n",
       "87495      елка новогодняя искусственная  0.877084\n",
       "53151               наволочка новогодняя  0.872253\n",
       "70000                    новогодние елки   0.86518\n",
       "41555                 новогодняя веточка  0.844395\n",
       "24415              новогодняя снегурочка  0.840804\n",
       "14101               сковородка недорогая  0.834306\n",
       "73415                       угловая пока  0.822025\n",
       "75176           щетка для новорожденного  0.819972\n",
       "10544                 коробка новогодняя  0.819517\n",
       "23787                      полка угловая  0.818817\n",
       "87621                новогодняя скатерть  0.816523\n",
       "50466                  угловая подставка  0.815079\n",
       "39713                  стакан новогодние  0.812751\n",
       "83654          новогодняя мягкая игрушка  0.806964\n",
       "52165        алмазная мозаика новогодняя  0.804938\n",
       "19506      нижегородская елочная игрушка  0.802537\n",
       "57231        кроватка для новорожденного  0.801951\n",
       "15635                         новогоднее  0.799751\n",
       "2857      пижама для мальчика новогодняя  0.796201\n",
       "33226  мягкая игрушка для новорожденного  0.796072\n",
       "52263                    для нового года  0.794932\n",
       "29194                      сказка одеяло  0.794909\n",
       "5152                  новогодний подарок  0.794551"
      ]
     },
     "execution_count": 305,
     "metadata": {},
     "output_type": "execute_result"
    }
   ],
   "source": [
    "#top tags for 'новогодняя елка'\n",
    "df_159017.sort_values(by='cos', ascending=False).drop_duplicates('UQ').head(25)[1:]"
   ]
  },
  {
   "cell_type": "markdown",
   "metadata": {},
   "source": [
    "### gensim word2vec and Annoy"
   ]
  },
  {
   "cell_type": "code",
   "execution_count": 310,
   "metadata": {},
   "outputs": [],
   "source": [
    "from gensim.similarities.annoy import AnnoyIndexer\n",
    "from gensim.models import Word2Vec"
   ]
  },
  {
   "cell_type": "code",
   "execution_count": null,
   "metadata": {},
   "outputs": [],
   "source": [
    "splitted = [uq.split() for uq in df_sh['UQ']]"
   ]
  },
  {
   "cell_type": "code",
   "execution_count": null,
   "metadata": {},
   "outputs": [],
   "source": [
    "model = Word2Vec(splitted, min_count=1, seed=1)\n",
    "indexer = AnnoyIndexer(model, 1000)"
   ]
  },
  {
   "cell_type": "code",
   "execution_count": null,
   "metadata": {},
   "outputs": [],
   "source": [
    "model.wv.most_similar('guess', topn=10, indexer=indexer)"
   ]
  },
  {
   "cell_type": "markdown",
   "metadata": {},
   "source": [
    "### save files"
   ]
  },
  {
   "cell_type": "code",
   "execution_count": 274,
   "metadata": {},
   "outputs": [],
   "source": [
    "np.savez('embeddings', sentence_embeddings)"
   ]
  },
  {
   "cell_type": "code",
   "execution_count": 275,
   "metadata": {},
   "outputs": [],
   "source": [
    "import joblib\n",
    "\n",
    "with open('sentence_embeddings.pkl', 'wb') as output:\n",
    "    joblib.dump(model, output)"
   ]
  },
  {
   "cell_type": "code",
   "execution_count": null,
   "metadata": {},
   "outputs": [],
   "source": [
    "sent.to_csv('sentences', index=False)"
   ]
  }
 ],
 "metadata": {
  "kernelspec": {
   "display_name": "Python 3",
   "language": "python",
   "name": "python3"
  },
  "language_info": {
   "codemirror_mode": {
    "name": "ipython",
    "version": 3
   },
   "file_extension": ".py",
   "mimetype": "text/x-python",
   "name": "python",
   "nbconvert_exporter": "python",
   "pygments_lexer": "ipython3",
   "version": "3.7.4"
  }
 },
 "nbformat": 4,
 "nbformat_minor": 4
}
